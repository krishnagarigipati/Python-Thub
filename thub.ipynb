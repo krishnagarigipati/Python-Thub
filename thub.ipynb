{
 "cells": [
  {
   "cell_type": "code",
   "execution_count": 32,
   "metadata": {},
   "outputs": [
    {
     "name": "stdout",
     "output_type": "stream",
     "text": [
      "Hello World\n"
     ]
    }
   ],
   "source": [
    "print(\"Hello World\")"
   ]
  },
  {
   "cell_type": "code",
   "execution_count": 4,
   "metadata": {},
   "outputs": [
    {
     "name": "stdout",
     "output_type": "stream",
     "text": [
      "Hare KRISHNA\n"
     ]
    }
   ],
   "source": [
    "print(\"Hare KRISHNA\")"
   ]
  },
  {
   "cell_type": "code",
   "execution_count": 1,
   "metadata": {},
   "outputs": [
    {
     "name": "stdout",
     "output_type": "stream",
     "text": [
      "Listening to Pavan Sir classes in THUB\n"
     ]
    }
   ],
   "source": [
    "print(\"Listening to Pavan    Sir classes in THUB\")"
   ]
  },
  {
   "cell_type": "markdown",
   "metadata": {},
   "source": [
    "# List\n",
    "\n",
    "- Lists are ordered collection of elements\n",
    "- Lists elements should be enclosed with square brackets\n",
    "- Lists are indexed\n",
    "- Index starts from 0\n",
    "- Lists are mutable\n"
   ]
  },
  {
   "cell_type": "code",
   "execution_count": 1,
   "metadata": {},
   "outputs": [
    {
     "name": "stdout",
     "output_type": "stream",
     "text": [
      "[65, 42, 91, 27, 46]\n"
     ]
    }
   ],
   "source": [
    "marks = [65,42,91,27,46]\n",
    "print(marks)"
   ]
  },
  {
   "cell_type": "code",
   "execution_count": 12,
   "metadata": {},
   "outputs": [
    {
     "name": "stdout",
     "output_type": "stream",
     "text": [
      "91\n",
      "42\n",
      "[42, 46, 65, 77, 91]\n"
     ]
    }
   ],
   "source": [
    "print(max(marks))\n",
    "print(min(marks))\n",
    "marks.sort()\n",
    "print(marks)"
   ]
  },
  {
   "cell_type": "markdown",
   "metadata": {},
   "source": [
    "# STRINGS\n",
    "- Strings are collection of characters\n",
    "- Strings are immutable\n",
    "- Strings are enclosed in single quotes or double quotes\n",
    "- Strings can be concatenated using the + operator\n",
    "- Strings can be repeated using the * operator\n",
    "- Strings are indexed"
   ]
  },
  {
   "cell_type": "code",
   "execution_count": 13,
   "metadata": {},
   "outputs": [
    {
     "name": "stdout",
     "output_type": "stream",
     "text": [
      "Hello\n",
      "5\n",
      "<class 'str'>\n"
     ]
    }
   ],
   "source": [
    "string = \"Hello\"\n",
    "print(string)\n",
    "print(len(string))\n",
    "print(type(string))"
   ]
  },
  {
   "cell_type": "code",
   "execution_count": 15,
   "metadata": {},
   "outputs": [
    {
     "name": "stdout",
     "output_type": "stream",
     "text": [
      "o\n",
      "H\n",
      "H\n",
      "l\n"
     ]
    }
   ],
   "source": [
    "print(max(string))\n",
    "print(min(string))\n",
    "print(string[0])\n",
    "print(string[3])"
   ]
  },
  {
   "cell_type": "code",
   "execution_count": 16,
   "metadata": {},
   "outputs": [
    {
     "name": "stdout",
     "output_type": "stream",
     "text": [
      "97\n"
     ]
    }
   ],
   "source": [
    "# ORD FUNCTION TO GET THE ASCII VALUE OF A CHARACTER\n",
    "\n",
    "print(ord('a'))"
   ]
  },
  {
   "cell_type": "code",
   "execution_count": 17,
   "metadata": {},
   "outputs": [
    {
     "name": "stdout",
     "output_type": "stream",
     "text": [
      "a\n"
     ]
    }
   ],
   "source": [
    "# chr() function to know the char of an ascii value\n",
    "\n",
    "print(chr(97))"
   ]
  },
  {
   "cell_type": "code",
   "execution_count": 21,
   "metadata": {},
   "outputs": [
    {
     "name": "stdout",
     "output_type": "stream",
     "text": [
      "{'H', 'l', 'e', 'o'}\n",
      "H\n",
      "l\n",
      "e\n",
      "o\n"
     ]
    }
   ],
   "source": [
    "string = \"Hello\"\n",
    "se = set(string)\n",
    "\n",
    "print(se)\n",
    "\n",
    "for char in se:\n",
    "    print(char)\n",
    "\n"
   ]
  },
  {
   "cell_type": "code",
   "execution_count": 23,
   "metadata": {},
   "outputs": [
    {
     "name": "stdout",
     "output_type": "stream",
     "text": [
      "['H', 'e', 'l', 'l', 'o']\n"
     ]
    }
   ],
   "source": [
    "l = list(string)\n",
    "print(l)"
   ]
  },
  {
   "cell_type": "code",
   "execution_count": 1,
   "metadata": {},
   "outputs": [
    {
     "name": "stdout",
     "output_type": "stream",
     "text": [
      "NO\n",
      "set()\n"
     ]
    }
   ],
   "source": [
    "s = input().strip().replace(\" \", \"\")\n",
    "if len(set(s)) == 26:\n",
    "    print(\"YES\")\n",
    "else:\n",
    "    print(\"NO\")\n",
    "    print(set(s))"
   ]
  },
  {
   "cell_type": "code",
   "execution_count": 34,
   "metadata": {},
   "outputs": [
    {
     "name": "stdout",
     "output_type": "stream",
     "text": [
      "{1: '4'}\n"
     ]
    }
   ],
   "source": [
    "d = {1:\"4\"}\n",
    "print(d)"
   ]
  },
  {
   "cell_type": "code",
   "execution_count": 37,
   "metadata": {},
   "outputs": [
    {
     "name": "stdout",
     "output_type": "stream",
     "text": [
      "{'S': 1, 'h': 2, 'a': 2, 'n': 1, 'm': 1, 'u': 1, 'k': 1}\n"
     ]
    }
   ],
   "source": [
    "d = {}\n",
    "a = input()\n",
    "\n",
    "b = list(a)\n",
    "\n",
    "for char in b:\n",
    "    if char not in d:\n",
    "        d[char] = 1\n",
    "\n",
    "    else:\n",
    "        d[char]+=1\n",
    "\n",
    "print(d)"
   ]
  },
  {
   "cell_type": "markdown",
   "metadata": {},
   "source": [
    "### Membership Operators\n",
    "\n",
    "- in: to check whether an element is there in a particular thing or not\n"
   ]
  },
  {
   "cell_type": "markdown",
   "metadata": {},
   "source": [
    "# FUNCTIONS"
   ]
  },
  {
   "cell_type": "code",
   "execution_count": 1,
   "metadata": {},
   "outputs": [
    {
     "name": "stdout",
     "output_type": "stream",
     "text": [
      "11\n"
     ]
    }
   ],
   "source": [
    "def add_two(a,b):\n",
    "    return a+b\n",
    "\n",
    "print(add_two(5,6))"
   ]
  },
  {
   "cell_type": "code",
   "execution_count": 5,
   "metadata": {},
   "outputs": [
    {
     "name": "stdout",
     "output_type": "stream",
     "text": [
      "Name: Krishna, Age: 16, Gender: Male\n"
     ]
    }
   ],
   "source": [
    "class Person:\n",
    "    def __init__(self, name, age, gender):\n",
    "        self.name = name\n",
    "        self.age = age\n",
    "        self.gender = gender\n",
    "\n",
    "    def print_info(self):\n",
    "        print(f\"Name: {self.name}, Age: {self.age}, Gender: {self.gender}\")\n",
    "\n",
    "\n",
    "p1 = Person(input(\"Enter name: \"), input(\"Enter age: \"), input(\"Enter gender: \"))\n",
    "\n",
    "\n",
    "p1.print_info()"
   ]
  },
  {
   "cell_type": "code",
   "execution_count": 4,
   "metadata": {},
   "outputs": [
    {
     "name": "stdout",
     "output_type": "stream",
     "text": [
      "Help on built-in function max in module builtins:\n",
      "\n",
      "max(...)\n",
      "    max(iterable, *[, default=obj, key=func]) -> value\n",
      "    max(arg1, arg2, *args, *[, key=func]) -> value\n",
      "    \n",
      "    With a single iterable argument, return its biggest item. The\n",
      "    default keyword-only argument specifies an object to return if\n",
      "    the provided iterable is empty.\n",
      "    With two or more arguments, return the largest argument.\n",
      "\n"
     ]
    }
   ],
   "source": [
    "help(max)"
   ]
  },
  {
   "cell_type": "code",
   "execution_count": 9,
   "metadata": {},
   "outputs": [
    {
     "name": "stdout",
     "output_type": "stream",
     "text": [
      "Mumbai is in India, which is in Asia\n"
     ]
    }
   ],
   "source": [
    "def string_print(city, country, continent):\n",
    "    print(f\"{city} is in {country}, which is in {continent}\")\n",
    "\n",
    "string_print(\"Mumbai\", \"India\", \"Asia\")"
   ]
  },
  {
   "cell_type": "code",
   "execution_count": 2,
   "metadata": {},
   "outputs": [
    {
     "name": "stdout",
     "output_type": "stream",
     "text": [
      "HI\n"
     ]
    }
   ],
   "source": [
    "print(\"HI\")"
   ]
  },
  {
   "cell_type": "markdown",
   "metadata": {},
   "source": [
    "# LISTS\n"
   ]
  },
  {
   "cell_type": "code",
   "execution_count": 4,
   "metadata": {},
   "outputs": [
    {
     "name": "stdout",
     "output_type": "stream",
     "text": [
      "4\n"
     ]
    }
   ],
   "source": [
    "x = [10,20,30,40]\n",
    "print(len(x))"
   ]
  },
  {
   "cell_type": "code",
   "execution_count": 10,
   "metadata": {},
   "outputs": [
    {
     "name": "stdout",
     "output_type": "stream",
     "text": [
      "40\n"
     ]
    }
   ],
   "source": [
    "print(x[-1])"
   ]
  },
  {
   "cell_type": "code",
   "execution_count": 14,
   "metadata": {},
   "outputs": [
    {
     "name": "stdout",
     "output_type": "stream",
     "text": [
      "[10, 20, 30, 40]\n",
      "[10, 15, 20, 30, 40]\n"
     ]
    }
   ],
   "source": [
    "x = [10, 20, 30]\n",
    "x.append(40)\n",
    "print(x)\n",
    "x.insert(1, 15)\n",
    "print(x)\n"
   ]
  },
  {
   "cell_type": "code",
   "execution_count": 16,
   "metadata": {},
   "outputs": [
    {
     "name": "stdout",
     "output_type": "stream",
     "text": [
      "[1, 2, 3, 4, 5]\n"
     ]
    }
   ],
   "source": [
    "x = []\n",
    "\n",
    "for i in range(5):\n",
    "    x.append(int(input()))\n",
    "\n",
    "print(x)"
   ]
  },
  {
   "cell_type": "code",
   "execution_count": 18,
   "metadata": {},
   "outputs": [
    {
     "name": "stdout",
     "output_type": "stream",
     "text": [
      "[1, 2, 3, 4, 5]\n"
     ]
    }
   ],
   "source": [
    "x = list(map(int, input().split()))\n",
    "print(x)\n",
    "x.pop()"
   ]
  },
  {
   "cell_type": "code",
   "execution_count": 36,
   "metadata": {},
   "outputs": [
    {
     "name": "stdout",
     "output_type": "stream",
     "text": [
      "[10, 20, 30]\n"
     ]
    }
   ],
   "source": [
    "x = [10,20,30]\n",
    "\n",
    "print(x)"
   ]
  },
  {
   "cell_type": "code",
   "execution_count": 39,
   "metadata": {},
   "outputs": [
    {
     "name": "stdout",
     "output_type": "stream",
     "text": [
      "[10, 20, 30, 50, 60, 70, 50, 60, 70]\n"
     ]
    }
   ],
   "source": [
    "a = [50,60,70]\n",
    "x.extend(a)\n",
    "print(x)"
   ]
  },
  {
   "cell_type": "code",
   "execution_count": 40,
   "metadata": {},
   "outputs": [
    {
     "name": "stdout",
     "output_type": "stream",
     "text": [
      "[20, 10, 30, 50, 60, 70, 50, 60, 70]\n"
     ]
    }
   ],
   "source": [
    "x[0], x[1] = x[1], x[0]\n",
    "print(x)"
   ]
  },
  {
   "cell_type": "code",
   "execution_count": 43,
   "metadata": {},
   "outputs": [
    {
     "name": "stdout",
     "output_type": "stream",
     "text": [
      "['1', '2', '3']\n",
      "[1, 2, 3]\n"
     ]
    }
   ],
   "source": [
    "a = []\n",
    "b = []\n",
    "a.extend('123')\n",
    "print(a)\n",
    "for num in a:\n",
    "    new_num = int(num)\n",
    "    b.append(new_num)\n",
    "\n",
    "print(b)"
   ]
  },
  {
   "cell_type": "markdown",
   "metadata": {},
   "source": [
    "# SLICING IN LISTS"
   ]
  },
  {
   "cell_type": "code",
   "execution_count": 4,
   "metadata": {},
   "outputs": [
    {
     "name": "stdout",
     "output_type": "stream",
     "text": [
      "[50, 40, 30]\n"
     ]
    }
   ],
   "source": [
    "x = [10,20,30,40,50,60]\n",
    "slice1 = x[4:1:-1]\n",
    "print(slice1)"
   ]
  },
  {
   "cell_type": "code",
   "execution_count": 9,
   "metadata": {},
   "outputs": [
    {
     "name": "stdout",
     "output_type": "stream",
     "text": [
      "[13]\n",
      "[19, 31, 40, 19]\n",
      "[57, 97, 91, 52, 81]\n"
     ]
    }
   ],
   "source": [
    "ages = [19,57,97,31,40,91,13,52,81,19]\n",
    "child = []\n",
    "adult = []\n",
    "old = []\n",
    "\n",
    "for age in ages:\n",
    "    if age <= 15:\n",
    "        child.append(age)\n",
    "    elif age>15 and age<50:\n",
    "        adult.append(age)\n",
    "    else:\n",
    "        old.append(age)\n",
    "\n",
    "print(child, adult, old, sep='\\n')"
   ]
  },
  {
   "cell_type": "code",
   "execution_count": 10,
   "metadata": {},
   "outputs": [
    {
     "name": "stdout",
     "output_type": "stream",
     "text": [
      "[1, 4, 9, 16]\n"
     ]
    }
   ],
   "source": [
    "nums = [1,2,3,4]\n",
    "sq = [x*x for x in nums]\n",
    "print(sq)"
   ]
  },
  {
   "cell_type": "code",
   "execution_count": 15,
   "metadata": {},
   "outputs": [
    {
     "name": "stdout",
     "output_type": "stream",
     "text": [
      "['james', 'sally']\n",
      "[4, 3, 5, 5]\n"
     ]
    }
   ],
   "source": [
    "names = ['kris', 'ram', 'james', 'sally']\n",
    "lens = [len(x) for x in names]\n",
    "r_l = [x for x in names if 'r' not in x]\n",
    "print(r_l)\n",
    "print(lens)"
   ]
  },
  {
   "cell_type": "code",
   "execution_count": 16,
   "metadata": {},
   "outputs": [
    {
     "name": "stdout",
     "output_type": "stream",
     "text": [
      "['sally']\n"
     ]
    }
   ],
   "source": [
    "names_s = [x for x in names if x[0]=='s']\n",
    "print(names_s)"
   ]
  },
  {
   "cell_type": "code",
   "execution_count": 23,
   "metadata": {},
   "outputs": [
    {
     "name": "stdout",
     "output_type": "stream",
     "text": [
      "[1, 2, 3, 4, 5, 6, 7, 8, 9, 11, 22, 33, 44, 55, 66, 77, 88, 99, 101, 111, 121, 131, 141, 151, 161, 171, 181, 191, 202, 212, 222, 232, 242, 252, 262, 272, 282, 292, 303, 313, 323, 333, 343, 353, 363, 373, 383, 393, 404, 414, 424, 434, 444, 454, 464, 474, 484, 494, 505, 515, 525, 535, 545, 555, 565, 575, 585, 595, 606, 616, 626, 636, 646, 656, 666, 676, 686, 696, 707, 717, 727, 737, 747, 757, 767, 777, 787, 797, 808, 818, 828, 838, 848, 858, 868, 878, 888, 898, 909, 919, 929, 939, 949, 959, 969, 979, 989, 999]\n"
     ]
    }
   ],
   "source": [
    "def palindrome(n):\n",
    "    x = str(n)\n",
    "    return x == x[::-1]\n",
    "\n",
    "li = [x for x in range(1, 1000) if palindrome(x)]\n",
    "print(li)\n"
   ]
  },
  {
   "cell_type": "code",
   "execution_count": 9,
   "metadata": {},
   "outputs": [
    {
     "data": {
      "text/plain": [
       "[[None, None, None],\n",
       " [None, None, None],\n",
       " [None, None, None],\n",
       " [None, None, None],\n",
       " [None, None, None]]"
      ]
     },
     "execution_count": 9,
     "metadata": {},
     "output_type": "execute_result"
    }
   ],
   "source": []
  },
  {
   "cell_type": "code",
   "execution_count": 3,
   "metadata": {},
   "outputs": [
    {
     "name": "stdout",
     "output_type": "stream",
     "text": [
      "{'James Bond': 56, 'Ethan Hunt': 24}\n"
     ]
    }
   ],
   "source": [
    "no_pairs = int(input())\n",
    "d = {}\n",
    "for i in range(no_pairs):\n",
    "    key = input()\n",
    "    Value = int(input())\n",
    "    d[key] = Value\n",
    "\n",
    "print(d)"
   ]
  },
  {
   "cell_type": "code",
   "execution_count": 9,
   "metadata": {},
   "outputs": [
    {
     "name": "stdout",
     "output_type": "stream",
     "text": [
      "{'a': 1, 'b': 2, 'c': 3, 'd': 4, 'e': 5, 'f': 6, 'g': 7, 'h': 8, 'i': 9, 'j': 10, 'k': 11, 'l': 12, 'm': 13, 'n': 14, 'o': 15, 'p': 16, 'q': 17, 'r': 18, 's': 19, 't': 20, 'u': 21, 'v': 22, 'w': 23, 'x': 24, 'y': 25, 'z': 26}\n"
     ]
    }
   ],
   "source": [
    "d = {}\n",
    "\n",
    "for i in range(1,27):\n",
    "    d[chr(i+96)] = i\n",
    "\n",
    "print(d)"
   ]
  },
  {
   "cell_type": "code",
   "execution_count": 10,
   "metadata": {},
   "outputs": [
    {
     "name": "stdout",
     "output_type": "stream",
     "text": [
      "{'a': 1, 'b': 2, 'c': 3, 'd': 4, 'e': 5, 'f': 6, 'g': 7, 'h': 8, 'i': 9, 'j': 10, 'k': 11, 'l': 12, 'm': 13, 'n': 14, 'o': 15, 'p': 16, 'q': 17, 'r': 18, 's': 19, 't': 20, 'u': 21, 'v': 22, 'w': 23, 'x': 24, 'y': 25, 'z': 26}\n"
     ]
    }
   ],
   "source": [
    "n = {chr(x+96): x for x in range(1,27)}\n",
    "print(n)\n"
   ]
  },
  {
   "cell_type": "markdown",
   "metadata": {},
   "source": [
    "# zip function\n",
    "\n",
    "''' USED TO GENERATE N LENGTH TUPLES, WHERE iTH ELEMENT OF EACH TUPLE COMES FROM iTH ITERALE'''"
   ]
  },
  {
   "cell_type": "code",
   "execution_count": 19,
   "metadata": {},
   "outputs": [
    {
     "name": "stdout",
     "output_type": "stream",
     "text": [
      "{1: 'a', 2: 'b', 3: 'c'}\n"
     ]
    }
   ],
   "source": [
    "lst = [1,2,3,4,5,6]\n",
    "string = \"abc\"\n",
    "z = zip(lst, string)\n",
    "print(dict(z))"
   ]
  },
  {
   "cell_type": "code",
   "execution_count": 20,
   "metadata": {},
   "outputs": [
    {
     "data": {
      "text/plain": [
       "dict_items([('Sachin Tendulkar', 100), ('Sir Don Bradman', 89), ('Sir Vivian Richards', 66)])"
      ]
     },
     "execution_count": 20,
     "metadata": {},
     "output_type": "execute_result"
    }
   ],
   "source": [
    "cricketers = {\n",
    "    \"Sachin Tendulkar\":  100,\n",
    "    \"Sir Don Bradman\": 89,\n",
    "    \"Sir Vivian Richards\": 66\n",
    "}\n",
    "\n"
   ]
  },
  {
   "cell_type": "code",
   "execution_count": 22,
   "metadata": {},
   "outputs": [
    {
     "name": "stdout",
     "output_type": "stream",
     "text": [
      "Student 1: Name = a, Age = 23, Grade = 18\n",
      "Student 2: Name = b, Age = 26, Grade = 17\n",
      "Student 3: Name = c, Age = 21, Grade = 19\n",
      "Student 4: Name = d, Age = 24, Grade = 20\n",
      "Student 5: Name = e, Age = 25, Grade = 16\n"
     ]
    }
   ],
   "source": [
    "## ENUMERATION LOOP\n",
    "\n",
    "students = [[\"a\",23,18], [\"b\", 26, 17], [\"c\", 21, 19], [\"d\", 24, 20], [\"e\", 25, 16]]\n",
    "\n",
    "for index, student in enumerate(students):\n",
    "    print(f\"Student {index+1}: Name = {student[0]}, Age = {student[1]}, Grade = {student[2]}\")"
   ]
  },
  {
   "cell_type": "code",
   "execution_count": 5,
   "metadata": {},
   "outputs": [
    {
     "name": "stdout",
     "output_type": "stream",
     "text": [
      "2\n"
     ]
    }
   ],
   "source": [
    "d = {'a': 1, 'b':2, 'c':3}\n",
    "\n",
    "#a safe way to get the values\n",
    "\n",
    "if(d.get('b', 0)):\n",
    "    print(d['b'])\n"
   ]
  },
  {
   "cell_type": "code",
   "execution_count": 6,
   "metadata": {},
   "outputs": [
    {
     "name": "stdout",
     "output_type": "stream",
     "text": [
      "{'a': 7, 'b': 3, 'c': 2, 'd': 3, 'x': 2}\n"
     ]
    }
   ],
   "source": [
    "string = \"aabccaadddaxxaabb\"\n",
    "\n",
    "d = {}\n",
    "\n",
    "for x in string:\n",
    "    if x in d:\n",
    "        d[x] += 1\n",
    "    \n",
    "    else:\n",
    "        d[x] = 1\n",
    "        \n",
    "print(d)"
   ]
  },
  {
   "cell_type": "code",
   "execution_count": 13,
   "metadata": {},
   "outputs": [
    {
     "name": "stdout",
     "output_type": "stream",
     "text": [
      "{'a': 7, 'b': 3, 'c': 2, 'd': 3, 'x': 2}\n"
     ]
    }
   ],
   "source": [
    "d_new = {}\n",
    "\n",
    "for x in string:\n",
    "    d_new[x] = d_new.get(x,0) + 1\n",
    "   \n",
    "print(d_new) \n",
    "    "
   ]
  },
  {
   "cell_type": "markdown",
   "metadata": {},
   "source": [
    "### SOME OF THE HIGHER ORDER FUNCTIONS"
   ]
  },
  {
   "cell_type": "markdown",
   "metadata": {},
   "source": [
    "#### MAP\n",
    "\n",
    " - map(func, iterable)\n",
    " - Applies a given function to each item of an iterable and returns a map object which is an iterator. \n",
    " - Parameters:\n",
    " - func: The function to be applied to each item of the iterable.\n",
    " - iterable: The iterable (such as a list, tuple, or string) to be processed.\n",
    " - Returns:\n",
    " - A map object which is an iterator, yielding the results of applying the function to each item of the iterable.\n",
    " - Example:\n",
    " - `list(map(lambda x: x**2, [1, 2, 3, 4]))` returns `[1, 4, 9, 16]`"
   ]
  },
  {
   "cell_type": "code",
   "execution_count": 20,
   "metadata": {},
   "outputs": [
    {
     "name": "stdout",
     "output_type": "stream",
     "text": [
      "[2, 3, 4, 5]\n",
      "\n",
      "2345\n"
     ]
    }
   ],
   "source": [
    "names = ['ab', 'xyz', 'pqrs', 'abcde']\n",
    "\n",
    "\n",
    "lengths = list(map(len, names))\n",
    "\n",
    "\n",
    "print(lengths)\n",
    "\n",
    "\n",
    "result = int(''.join(map(str, lengths)))\n",
    "print()\n",
    "print(result)\n"
   ]
  },
  {
   "cell_type": "code",
   "execution_count": 26,
   "metadata": {},
   "outputs": [
    {
     "name": "stdout",
     "output_type": "stream",
     "text": [
      "['A', 'B', 'C', 'D', 'E', 'F', 'G', 'H', 'I', 'J', 'K', 'L', 'M', 'N', 'O', 'P', 'Q', 'R', 'S', 'T', 'U', 'V', 'W', 'X', 'Y', 'Z']\n"
     ]
    }
   ],
   "source": [
    "print(list(map(chr, range(65,91))))"
   ]
  },
  {
   "cell_type": "code",
   "execution_count": 31,
   "metadata": {},
   "outputs": [
    {
     "name": "stdout",
     "output_type": "stream",
     "text": [
      "[1, 8, 27]\n"
     ]
    }
   ],
   "source": [
    "nums = [1,2,3]\n",
    "print(list(map(lambda x: x ** 3, nums)))"
   ]
  },
  {
   "cell_type": "code",
   "execution_count": 33,
   "metadata": {},
   "outputs": [
    {
     "name": "stdout",
     "output_type": "stream",
     "text": [
      "[90, 100, 140]\n"
     ]
    }
   ],
   "source": [
    "marks = [[20,30,40], [50,20,30], [40,60,40]]\n",
    "\n",
    "print(list(map(sum, marks)))\n"
   ]
  },
  {
   "cell_type": "code",
   "execution_count": 36,
   "metadata": {},
   "outputs": [
    {
     "name": "stdout",
     "output_type": "stream",
     "text": [
      "6\n"
     ]
    }
   ],
   "source": [
    "# Find out the digit sum  --> CHEAT\n",
    "\n",
    "print(sum(map(int, list(input()))))"
   ]
  },
  {
   "cell_type": "code",
   "execution_count": 40,
   "metadata": {},
   "outputs": [
    {
     "name": "stdout",
     "output_type": "stream",
     "text": [
      "[11, 13]\n"
     ]
    }
   ],
   "source": [
    "def is_odd(n):\n",
    "    return n%2==1\n",
    "\n",
    "n = [11,12,13,14]\n",
    "\n",
    "f = filter(is_odd, n)\n",
    "print(list(f))"
   ]
  },
  {
   "cell_type": "code",
   "execution_count": 42,
   "metadata": {},
   "outputs": [
    {
     "name": "stdout",
     "output_type": "stream",
     "text": [
      "[1, 2, 3, 5, 7, 11, 13]\n"
     ]
    }
   ],
   "source": [
    "def is_prime(n):\n",
    "    for i in range(2,n):\n",
    "        if n%i==0:\n",
    "            return False\n",
    "        \n",
    "    return True\n",
    "\n",
    "a,b = map(int,  input().split())\n",
    "\n",
    "list_of_primes = list(filter(is_prime, range(a, b+1)))\n",
    "print(list_of_primes)\n",
    "\n"
   ]
  },
  {
   "cell_type": "code",
   "execution_count": 50,
   "metadata": {},
   "outputs": [
    {
     "name": "stdout",
     "output_type": "stream",
     "text": [
      "['Kris', 'Shannu']\n"
     ]
    }
   ],
   "source": [
    "def contains_o(name):\n",
    "    return 'o' not in name\n",
    "\n",
    "names = ['Von', \"Kris\", \"Shannu\", \"oval\", \"Ron\", \"Hermione\"]\n",
    "\n",
    "print(list(filter((contains_o), names)))\n"
   ]
  },
  {
   "cell_type": "code",
   "execution_count": 51,
   "metadata": {},
   "outputs": [
    {
     "name": "stdout",
     "output_type": "stream",
     "text": [
      "[('harry', 2), ('hermoine', 2), ('draco', 5)]\n"
     ]
    }
   ],
   "source": [
    "def fun(t):\n",
    "    return t[1]>=2\n",
    "\n",
    "d = {\n",
    "    'harry': 2,\n",
    "    'hermoine': 2,\n",
    "    'ron': 1,\n",
    "    'draco': 5,\n",
    "    'snape': 0\n",
    "}\n",
    "\n",
    "print(list(filter(fun, d.items())))"
   ]
  },
  {
   "cell_type": "markdown",
   "metadata": {},
   "source": [
    "### SORT FUNCTION\n"
   ]
  },
  {
   "cell_type": "code",
   "execution_count": 53,
   "metadata": {},
   "outputs": [
    {
     "data": {
      "text/plain": [
       "['James', 'Krishna', 'Shannu']"
      ]
     },
     "execution_count": 53,
     "metadata": {},
     "output_type": "execute_result"
    }
   ],
   "source": [
    "lst = [\"Krishna\", \"Shannu\", \"James\"]\n",
    "lst.sort()\n",
    "lst"
   ]
  },
  {
   "cell_type": "code",
   "execution_count": 55,
   "metadata": {},
   "outputs": [
    {
     "name": "stdout",
     "output_type": "stream",
     "text": [
      "[('b', 6), ('a', 12), ('c', 14)]\n"
     ]
    }
   ],
   "source": [
    "# Define the dictionary\n",
    "d = {'a': 12, 'c': 14, 'b': 6}\n",
    "\n",
    "# Sort the dictionary by its values\n",
    "sorted_list = sorted(d.items(), key=lambda x: x[1])\n",
    "\n",
    "# Print the sorted list of tuples\n",
    "print(sorted_list)\n"
   ]
  },
  {
   "cell_type": "markdown",
   "metadata": {},
   "source": [
    "### LAMDA FUNCTIONS\n",
    "\n",
    "- Functions on fly\n",
    "- Lambdas are used in higer order functions\n",
    "- Syntax: labmbda parameter : expression \n",
    "- There can be many parameters but only one expression\n"
   ]
  },
  {
   "cell_type": "code",
   "execution_count": 1,
   "metadata": {},
   "outputs": [
    {
     "name": "stdout",
     "output_type": "stream",
     "text": [
      "8\n"
     ]
    }
   ],
   "source": [
    "def cube(n):\n",
    "    return n * n * n\n",
    "\n",
    "print(cube(2))"
   ]
  },
  {
   "cell_type": "code",
   "execution_count": 4,
   "metadata": {},
   "outputs": [
    {
     "data": {
      "text/plain": [
       "512"
      ]
     },
     "execution_count": 4,
     "metadata": {},
     "output_type": "execute_result"
    }
   ],
   "source": [
    "(lambda n: n * n * n)(8) # anonymous function\n",
    "\n"
   ]
  },
  {
   "cell_type": "code",
   "execution_count": 7,
   "metadata": {},
   "outputs": [
    {
     "name": "stdout",
     "output_type": "stream",
     "text": [
      "[1, 343, 4096, 27]\n"
     ]
    }
   ],
   "source": [
    "nums = [1,7,16,3]\n",
    "\n",
    "output = list(map(lambda x: x**3, nums))\n",
    "print(output)"
   ]
  },
  {
   "cell_type": "code",
   "execution_count": 9,
   "metadata": {},
   "outputs": [
    {
     "name": "stdout",
     "output_type": "stream",
     "text": [
      "[2, 32, 42]\n"
     ]
    }
   ],
   "source": [
    "pairs = [(1,2), (4,8), (6,7)]\n",
    "\n",
    "output = list(map((lambda x: x[0] * x[1]), pairs))\n",
    "print(output)"
   ]
  },
  {
   "cell_type": "code",
   "execution_count": 11,
   "metadata": {},
   "outputs": [
    {
     "name": "stdout",
     "output_type": "stream",
     "text": [
      "[1, 3, 6, 10, 15]\n"
     ]
    }
   ],
   "source": [
    "# PREFIX SUM IN PYTHON\n",
    "\n",
    "import itertools \n",
    "\n",
    "nums = [1,2,3,4,5]\n",
    "\n",
    "output = itertools.accumulate(nums)\n",
    "print(list(output))"
   ]
  },
  {
   "cell_type": "markdown",
   "metadata": {},
   "source": [
    "### STRINGS\n",
    "\n",
    "- upper()\n",
    "- lower()\n",
    "- isupper()\n",
    "- islower()\n",
    "- istitle()\n",
    "- startswith()\n",
    "- endswith()\n",
    "- split()\n",
    "- join()\n",
    "- isalpha()\n",
    "- isalnum()\n",
    "- index()\n",
    "- count()\n",
    "- find()\n",
    "- ljust()\n",
    "- rjust()\n",
    "- center()\n",
    "- strip()\n",
    "- lstrip()\n",
    "\n",
    "- rst"
   ]
  },
  {
   "cell_type": "code",
   "execution_count": 80,
   "metadata": {},
   "outputs": [
    {
     "data": {
      "text/plain": [
       "'HELLO'"
      ]
     },
     "execution_count": 80,
     "metadata": {},
     "output_type": "execute_result"
    }
   ],
   "source": [
    "s = 'hello'\n",
    "s.upper()"
   ]
  },
  {
   "cell_type": "code",
   "execution_count": 81,
   "metadata": {},
   "outputs": [
    {
     "data": {
      "text/plain": [
       "'james bond'"
      ]
     },
     "execution_count": 81,
     "metadata": {},
     "output_type": "execute_result"
    }
   ],
   "source": [
    "s_new  = \"JAMES BOND\"\n",
    "s_new.lower()"
   ]
  },
  {
   "cell_type": "code",
   "execution_count": 82,
   "metadata": {},
   "outputs": [
    {
     "data": {
      "text/plain": [
       "False"
      ]
     },
     "execution_count": 82,
     "metadata": {},
     "output_type": "execute_result"
    }
   ],
   "source": [
    "s.isupper()"
   ]
  },
  {
   "cell_type": "code",
   "execution_count": 83,
   "metadata": {},
   "outputs": [
    {
     "name": "stdout",
     "output_type": "stream",
     "text": [
      "ab\n"
     ]
    }
   ],
   "source": [
    "l = ['a', 'b']\n",
    "\n",
    "x = ''.join(l)\n",
    "print(x)\n"
   ]
  },
  {
   "cell_type": "code",
   "execution_count": 84,
   "metadata": {},
   "outputs": [
    {
     "name": "stdout",
     "output_type": "stream",
     "text": [
      "axcb\n"
     ]
    }
   ],
   "source": [
    "y = 'ab'\n",
    "z = 'xc'\n",
    "\n",
    "print(z.join(y))"
   ]
  },
  {
   "cell_type": "code",
   "execution_count": 85,
   "metadata": {},
   "outputs": [
    {
     "data": {
      "text/plain": [
       "False"
      ]
     },
     "execution_count": 85,
     "metadata": {},
     "output_type": "execute_result"
    }
   ],
   "source": [
    "s.istitle()"
   ]
  },
  {
   "cell_type": "code",
   "execution_count": 86,
   "metadata": {},
   "outputs": [
    {
     "data": {
      "text/plain": [
       "True"
      ]
     },
     "execution_count": 86,
     "metadata": {},
     "output_type": "execute_result"
    }
   ],
   "source": [
    "s.startswith('h')"
   ]
  },
  {
   "cell_type": "code",
   "execution_count": 87,
   "metadata": {},
   "outputs": [
    {
     "data": {
      "text/plain": [
       "True"
      ]
     },
     "execution_count": 87,
     "metadata": {},
     "output_type": "execute_result"
    }
   ],
   "source": [
    "s.endswith('o')"
   ]
  },
  {
   "cell_type": "code",
   "execution_count": 88,
   "metadata": {},
   "outputs": [
    {
     "name": "stdout",
     "output_type": "stream",
     "text": [
      "['The', 'name', 'is', 'Bond...', 'James', 'Bond...']\n"
     ]
    }
   ],
   "source": [
    "x = \"The name is Bond... James Bond... \"\n",
    "result = x.split()\n",
    "print(result)"
   ]
  },
  {
   "cell_type": "code",
   "execution_count": 89,
   "metadata": {},
   "outputs": [
    {
     "name": "stdout",
     "output_type": "stream",
     "text": [
      "['apple', 'banana', 'cherry']\n"
     ]
    }
   ],
   "source": [
    "y = \"apple,banana,cherry\"\n",
    "res = y.split(',')\n",
    "print(res)"
   ]
  },
  {
   "cell_type": "code",
   "execution_count": 90,
   "metadata": {},
   "outputs": [
    {
     "name": "stdout",
     "output_type": "stream",
     "text": [
      "Hello World Python\n"
     ]
    }
   ],
   "source": [
    "words = ['Hello', 'World', 'Python']\n",
    "result = ' '.join(words)\n",
    "print(result)\n"
   ]
  },
  {
   "cell_type": "code",
   "execution_count": 91,
   "metadata": {},
   "outputs": [
    {
     "name": "stdout",
     "output_type": "stream",
     "text": [
      "apple,banana,cherry\n"
     ]
    }
   ],
   "source": [
    "fruits = ['apple', 'banana', 'cherry']\n",
    "result = ','.join(fruits)\n",
    "print(result)\n"
   ]
  },
  {
   "cell_type": "code",
   "execution_count": 92,
   "metadata": {},
   "outputs": [
    {
     "name": "stdout",
     "output_type": "stream",
     "text": [
      "1,2,3\n"
     ]
    }
   ],
   "source": [
    "digits = ['1', '2', '3']\n",
    "result = ','.join(digits)\n",
    "print(result)\n"
   ]
  },
  {
   "cell_type": "code",
   "execution_count": 93,
   "metadata": {},
   "outputs": [
    {
     "data": {
      "text/plain": [
       "2"
      ]
     },
     "execution_count": 93,
     "metadata": {},
     "output_type": "execute_result"
    }
   ],
   "source": [
    "x = \"Ethan Hunt\"\n",
    "x.index(\"h\")"
   ]
  },
  {
   "cell_type": "code",
   "execution_count": 94,
   "metadata": {},
   "outputs": [
    {
     "data": {
      "text/plain": [
       "2"
      ]
     },
     "execution_count": 94,
     "metadata": {},
     "output_type": "execute_result"
    }
   ],
   "source": [
    "x.lower().count(\"h\")"
   ]
  },
  {
   "cell_type": "code",
   "execution_count": 95,
   "metadata": {},
   "outputs": [
    {
     "name": "stdout",
     "output_type": "stream",
     "text": [
      "Ethan Hunt\n"
     ]
    },
    {
     "data": {
      "text/plain": [
       "6"
      ]
     },
     "execution_count": 95,
     "metadata": {},
     "output_type": "execute_result"
    }
   ],
   "source": [
    "print(x)\n",
    "x.find(\"H\")"
   ]
  },
  {
   "cell_type": "code",
   "execution_count": 96,
   "metadata": {},
   "outputs": [
    {
     "ename": "SyntaxError",
     "evalue": "invalid syntax (4177966953.py, line 6)",
     "output_type": "error",
     "traceback": [
      "\u001b[1;36m  Cell \u001b[1;32mIn[96], line 6\u001b[1;36m\u001b[0m\n\u001b[1;33m    topics =\u001b[0m\n\u001b[1;37m             ^\u001b[0m\n\u001b[1;31mSyntaxError\u001b[0m\u001b[1;31m:\u001b[0m invalid syntax\n"
     ]
    }
   ],
   "source": [
    "import pandas as pd\n",
    "import random\n",
    "\n",
    "df = pd.read_csv('real_testing.csv')\n",
    "selected_names = df['first_name']\n",
    "topics = \n",
    "print(selected_names)\n"
   ]
  },
  {
   "cell_type": "code",
   "execution_count": 126,
   "metadata": {},
   "outputs": [
    {
     "name": "stdout",
     "output_type": "stream",
     "text": [
      "Name:  TADI NAGA SIVA DEVI CHARMI MANASA\n",
      "Topic:  isupper\n",
      "Name:  SHAIK UMAR\n",
      "Topic:  startswith\n",
      "Name:  TURPUDI SATYA VENKATA SHANMUKHA THARUN\n",
      "Topic:  split\n",
      "Name:  TALLAPRAGADA VARSHITHA\n",
      "Topic:  upper\n",
      "Name:  SUREKHA REDDY GUDIMETLA\n",
      "Topic:  count\n",
      "Name:  SUNKARA SOWMYA\n",
      "Topic:  isalnum\n",
      "Name:  KHANDAVALLI VENKATA JAGADEESH\n",
      "Topic:  find\n",
      "Name:  KALLA CH K SRI HARI NARASIMHA SATYA DURGA\n",
      "Topic:  lstrip\n",
      "Name:  NUNNA VEERA GANGA MAHA LAKSHMI\n",
      "Topic:  center\n",
      "Name:  BALANAGU VARUN\n",
      "Topic:  strip\n",
      "Name:  KONAKALLA CHOPRA LAKSHMI SATHVIKA\n",
      "Topic:  index\n",
      "Name:  PULLELA LALITHA\n",
      "Topic:  join\n",
      "Thank you\n"
     ]
    },
    {
     "ename": "",
     "evalue": "",
     "output_type": "error",
     "traceback": [
      "\u001b[1;31mThe Kernel crashed while executing code in the current cell or a previous cell. \n",
      "\u001b[1;31mPlease review the code in the cell(s) to identify a possible cause of the failure. \n",
      "\u001b[1;31mClick <a href='https://aka.ms/vscodeJupyterKernelCrash'>here</a> for more info. \n",
      "\u001b[1;31mView Jupyter <a href='command:jupyter.viewOutput'>log</a> for further details."
     ]
    }
   ],
   "source": [
    "import pandas as pd\n",
    "import random\n",
    "\n",
    "df = pd.read_csv('real_testing.csv')\n",
    "selected_names = df['first_name'].tolist()\n",
    "string_methods = [\n",
    "    \"upper\",\n",
    "    \"lower\",\n",
    "    \"isupper\",\n",
    "    \"islower\",\n",
    "    \"istitle\",\n",
    "    \"startswith\",\n",
    "    \"endswith\",\n",
    "    \"split\",\n",
    "    \"join\",\n",
    "    \"isalpha\",\n",
    "    \"isalnum\",\n",
    "    \"index\",\n",
    "    \"count\",\n",
    "    \"find\",\n",
    "    \"ljust\",\n",
    "    \"rjust\",\n",
    "    \"center\",\n",
    "    \"strip\",\n",
    "    \"lstrip\",\n",
    "    \"rstrip\"\n",
    "]\n",
    "\n",
    "\n",
    "\n",
    "while(1 and len(selected_names)!=0 and len(string_methods)!=0):\n",
    "    x = int(input(\"Enter 1 for next and else to close\"))\n",
    "    if(x!=1):\n",
    "        print(\"Thank you\")\n",
    "        break\n",
    "    z = random.randint(0, len(string_methods)-1)\n",
    "    print(\"Name: \", selected_names[z])\n",
    "    print(\"Topic: \", string_methods[z])\n",
    "    selected_names.remove(selected_names[z])\n",
    "    string_methods.remove(string_methods[z])\n",
    "    \n",
    "if(len(selected_names)==0):\n",
    "    print(\"The names are over\")\n",
    "\n",
    "if(len(string_methods)==0):\n",
    "    print(\"The topics are over\")\n",
    "        \n",
    "        \n",
    "    \n",
    "    \n"
   ]
  },
  {
   "cell_type": "code",
   "execution_count": null,
   "metadata": {},
   "outputs": [],
   "source": []
  }
 ],
 "metadata": {
  "kernelspec": {
   "display_name": "base",
   "language": "python",
   "name": "python3"
  },
  "language_info": {
   "codemirror_mode": {
    "name": "ipython",
    "version": 3
   },
   "file_extension": ".py",
   "mimetype": "text/x-python",
   "name": "python",
   "nbconvert_exporter": "python",
   "pygments_lexer": "ipython3",
   "version": "3.11.9"
  }
 },
 "nbformat": 4,
 "nbformat_minor": 2
}
