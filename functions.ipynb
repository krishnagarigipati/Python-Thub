{
 "cells": [
  {
   "cell_type": "code",
   "execution_count": null,
   "metadata": {},
   "outputs": [],
   "source": [
    "def printing():\n",
    "    print(\"Hello World\")\n",
    "\n",
    "printing()"
   ]
  },
  {
   "cell_type": "code",
   "execution_count": 3,
   "metadata": {},
   "outputs": [
    {
     "name": "stdout",
     "output_type": "stream",
     "text": [
      "We Aliens Welcome You Humans to Our Planet Mars. Prepare to DIE :) !!!\n"
     ]
    }
   ],
   "source": [
    "def printing_two():\n",
    "    print(\"We Aliens Welcome You Humans to Our Planet Mars. Prepare to DIE :) !!!\")\n",
    "\n",
    "printing_two()"
   ]
  },
  {
   "cell_type": "code",
   "execution_count": 4,
   "metadata": {},
   "outputs": [
    {
     "name": "stdout",
     "output_type": "stream",
     "text": [
      "Mukhesh Ambani is from Mumbai, India\n"
     ]
    }
   ],
   "source": [
    "def Country_Citizen(name, city, country):\n",
    "    print(f\"{name} is from {city}, {country}\")\n",
    "\n",
    "name = input()\n",
    "city = input()\n",
    "country = input()\n",
    "\n",
    "Country_Citizen(name, city, country)\n"
   ]
  },
  {
   "cell_type": "code",
   "execution_count": 5,
   "metadata": {},
   "outputs": [
    {
     "name": "stdout",
     "output_type": "stream",
     "text": [
      "8\n"
     ]
    }
   ],
   "source": [
    "def calc(num1, num2, num3):\n",
    "    add = num1 + num3\n",
    "    print(add * num2)\n",
    "\n",
    "num1, num2, num3 = map(int, input().split())\n",
    "calc(num1, num2, num3)"
   ]
  },
  {
   "cell_type": "code",
   "execution_count": 6,
   "metadata": {},
   "outputs": [
    {
     "name": "stdout",
     "output_type": "stream",
     "text": [
      "5\n",
      "6\n",
      "7\n",
      "8\n",
      "9\n",
      "10\n"
     ]
    }
   ],
   "source": [
    "def iteration(start, stop):\n",
    "    for i in range(start, stop+1):\n",
    "        print(i)\n",
    "\n",
    "start, stop = map(int, input().split())\n",
    "iteration(start, stop)"
   ]
  },
  {
   "cell_type": "code",
   "execution_count": 10,
   "metadata": {},
   "outputs": [
    {
     "name": "stdout",
     "output_type": "stream",
     "text": [
      "3 * 1 = 3\n",
      "3 * 2 = 6\n",
      "3 * 3 = 9\n",
      "3 * 4 = 12\n",
      "3 * 5 = 15\n",
      "3 * 6 = 18\n"
     ]
    }
   ],
   "source": [
    "def table(n, r):\n",
    "    for i in range(1, r+1):\n",
    "        print(n , \"*\" , i , \"=\"  , (n*i))\n",
    "\n",
    "table(3,6)\n",
    "\n"
   ]
  },
  {
   "cell_type": "code",
   "execution_count": 12,
   "metadata": {},
   "outputs": [
    {
     "name": "stdout",
     "output_type": "stream",
     "text": [
      "30\n",
      "31\n",
      "32\n",
      "33\n",
      "34\n",
      "35\n",
      "36\n",
      "37\n",
      "38\n",
      "39\n",
      "40\n"
     ]
    }
   ],
   "source": [
    "def diff(a,b,c):\n",
    "    for i in range(a, b+1):\n",
    "        print(i-c)\n",
    "\n",
    "a,b,c =  map(int, input().split())\n",
    "diff(a,b,c)\n"
   ]
  },
  {
   "cell_type": "code",
   "execution_count": 13,
   "metadata": {},
   "outputs": [
    {
     "name": "stdout",
     "output_type": "stream",
     "text": [
      "D\n"
     ]
    }
   ],
   "source": [
    "def progress_report(a):\n",
    "    if a>=90:\n",
    "        print(\"O\")\n",
    "    elif 80<=a<90:\n",
    "        print(\"A\")\n",
    "    elif 70<=a<80:\n",
    "        print(\"B\")\n",
    "    elif 60<=a<70:\n",
    "        print(\"C\")\n",
    "    elif 50<=a<60:\n",
    "        print(\"D\")\n",
    "    elif 35<=a<50:\n",
    "        print(\"E\")\n",
    "    elif a<35:\n",
    "        print(\"F\")\n",
    "    else:\n",
    "        print(\"GAVE A WRONG VALUE\")\n",
    "a = float(input())\n",
    "progress_report(a)"
   ]
  },
  {
   "cell_type": "code",
   "execution_count": 14,
   "metadata": {},
   "outputs": [
    {
     "name": "stdout",
     "output_type": "stream",
     "text": [
      "H\n",
      ",\n",
      " \n",
      "W\n",
      "!\n"
     ]
    }
   ],
   "source": [
    "def print_chars_below_unicode(s, num):\n",
    "    for char in s:\n",
    "        if ord(char) < num:\n",
    "            print(char)\n",
    "\n",
    "\n",
    "print_chars_below_unicode(\"Hello, World!\", 100)"
   ]
  },
  {
   "cell_type": "code",
   "execution_count": 15,
   "metadata": {},
   "outputs": [
    {
     "name": "stdout",
     "output_type": "stream",
     "text": [
      "SURYA \n",
      "SURYA \n",
      "SURYA \n",
      "SURYA \n",
      "SURYA \n"
     ]
    }
   ],
   "source": [
    "def print_name_n_times(string, n):\n",
    "    for i in range(n):\n",
    "        print(string)\n",
    "\n",
    "string = input()\n",
    "n = int(input())\n",
    "print_name_n_times(string, n)"
   ]
  },
  {
   "cell_type": "code",
   "execution_count": 20,
   "metadata": {},
   "outputs": [
    {
     "name": "stdout",
     "output_type": "stream",
     "text": [
      "Krishna has scored a total of 485 with percentage 97.00%\n"
     ]
    }
   ],
   "source": [
    "def progress_card(name, *scores):\n",
    "    \n",
    "    total_score = sum(scores)\n",
    "    max_score = len(scores) * 100  # Assuming each score is out of 100\n",
    "    percentage = (total_score / max_score) * 100\n",
    "\n",
    "    print(f\"{name} has scored a total of {total_score} with percentage {percentage:.2f}%\")\n",
    "\n",
    "def main():\n",
    "    name = input(\"Enter the student's name: \")\n",
    "    scores = input(\"Enter the scores separated by spaces: \")\n",
    "    try:\n",
    "        scores = list(map(int, scores.split()))\n",
    "        progress_card(name, *scores)\n",
    "    except ValueError:\n",
    "        print(\"Invalid input. Please enter numeric values only.\")\n",
    "\n",
    "if __name__ == \"__main__\":\n",
    "    main()"
   ]
  },
  {
   "cell_type": "code",
   "execution_count": 21,
   "metadata": {},
   "outputs": [
    {
     "name": "stdout",
     "output_type": "stream",
     "text": [
      "105\n",
      "111\n",
      "117\n",
      "123\n",
      "129\n",
      "135\n",
      "141\n",
      "147\n",
      "153\n",
      "159\n",
      "165\n",
      "171\n",
      "177\n",
      "183\n",
      "189\n",
      "195\n"
     ]
    }
   ],
   "source": [
    "def start_stop_hill(start, stop, num1, num2):\n",
    "    for i in range(start, stop+1):\n",
    "        if i % num1 == 0 and i % num2 != 0:\n",
    "            print(i)\n",
    "\n",
    "start, stop, num1, num2 = map(int, input().split())\n",
    "start_stop_hill(start, stop, num1, num2)"
   ]
  },
  {
   "cell_type": "code",
   "execution_count": 23,
   "metadata": {},
   "outputs": [
    {
     "name": "stdout",
     "output_type": "stream",
     "text": [
      "YES\n"
     ]
    }
   ],
   "source": [
    "def factor_TOM_CRUISE(num2, num1):\n",
    "    a = num2%num1\n",
    "    if(a):\n",
    "        print(\"YES\")\n",
    "    else:\n",
    "        print(\"NO\")\n",
    "\n",
    "num1, num2 = map(int, input().split())\n",
    "factor_TOM_CRUISE(num1, num2)"
   ]
  },
  {
   "cell_type": "code",
   "execution_count": 24,
   "metadata": {},
   "outputs": [
    {
     "name": "stdout",
     "output_type": "stream",
     "text": [
      "60.0\n"
     ]
    }
   ],
   "source": [
    "def Loan_calc(p,t,r):\n",
    "    return (p*t*r)/100\n",
    "\n",
    "p,t,r = map(int, input().split())\n",
    "print(Loan_calc(p,t,r))"
   ]
  },
  {
   "cell_type": "code",
   "execution_count": null,
   "metadata": {},
   "outputs": [],
   "source": []
  }
 ],
 "metadata": {
  "kernelspec": {
   "display_name": "base",
   "language": "python",
   "name": "python3"
  },
  "language_info": {
   "codemirror_mode": {
    "name": "ipython",
    "version": 3
   },
   "file_extension": ".py",
   "mimetype": "text/x-python",
   "name": "python",
   "nbconvert_exporter": "python",
   "pygments_lexer": "ipython3",
   "version": "3.11.9"
  }
 },
 "nbformat": 4,
 "nbformat_minor": 2
}
