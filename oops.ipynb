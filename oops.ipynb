{
 "cells": [
  {
   "cell_type": "markdown",
   "metadata": {},
   "source": [
    "## OOPS IN PYTHON"
   ]
  },
  {
   "cell_type": "code",
   "execution_count": 1,
   "metadata": {},
   "outputs": [],
   "source": [
    "class Student:\n",
    "    pass\n",
    "\n",
    "s1 = Student()"
   ]
  },
  {
   "cell_type": "code",
   "execution_count": 3,
   "metadata": {},
   "outputs": [],
   "source": [
    "class Student:\n",
    "    def __init__(self, name, age):\n",
    "        self.name = name\n",
    "        self.age = age\n",
    "        \n",
    "s1 = Student(\"Krishna\", 12)\n"
   ]
  },
  {
   "cell_type": "code",
   "execution_count": 6,
   "metadata": {},
   "outputs": [
    {
     "name": "stdout",
     "output_type": "stream",
     "text": [
      "70\n"
     ]
    }
   ],
   "source": [
    "class Shape:\n",
    "    def __init__(self, len, width):\n",
    "        self.len = len\n",
    "        self.width = width\n",
    "        \n",
    "    def calc_area(self):\n",
    "        self.ans = self.len * self.width\n",
    "        return self.ans\n",
    "    \n",
    "    def print_area(self):\n",
    "        something = self.calc_area()\n",
    "        print(something)\n",
    "        \n",
    "        \n",
    "s1 = Shape(10,7)\n",
    "(s1.print_area())"
   ]
  },
  {
   "cell_type": "code",
   "execution_count": 7,
   "metadata": {},
   "outputs": [
    {
     "name": "stdout",
     "output_type": "stream",
     "text": [
      "0\n",
      "2\n"
     ]
    }
   ],
   "source": [
    "class Person:\n",
    "    population = 0\n",
    "    def __init__(self,name,age):\n",
    "        self.name = name\n",
    "        self.age = age\n",
    "        Person.population+=1\n",
    "        \n",
    "print(Person.population)\n",
    "p1 = Person(\"xyz\", 23)\n",
    "p2 = Person(\"abc\", 34)\n",
    "\n",
    "print(Person.population)"
   ]
  },
  {
   "cell_type": "code",
   "execution_count": null,
   "metadata": {},
   "outputs": [
    {
     "name": "stdout",
     "output_type": "stream",
     "text": [
      "circle 0 with radius 5 has an area of 78.5\n",
      "circle 1 with radius 6 has an area of 113.03999999999999\n",
      "circle 2 with radius 4 has an area of 50.24\n",
      "['circle 0', 'circle 2']\n"
     ]
    }
   ],
   "source": [
    "class Circle:\n",
    "    def __init__(self, radius, name):\n",
    "        self.radius = radius\n",
    "        self.name = name\n",
    "    def getArea(self):\n",
    "        return self.radius * 3.14 * self.radius\n",
    "    \n",
    "    def __str__(self):\n",
    "        return f\"{self.name} with radius {self.radius} has an area of {self.getArea()}\"\n",
    "    \n",
    "\n",
    "n = int(input(\"Enter number of circles: \"))  \n",
    "x = []\n",
    "\n",
    "for i in range(n):\n",
    "    r = int(input(\"Enter the Radius: \"))\n",
    "    circle = Circle(r, f\"Circle {i}\")\n",
    "    print(circle)\n",
    "    if circle.getArea() < 100:\n",
    "        x.append(circle.name)\n",
    "        \n",
    "print(x)"
   ]
  },
  {
   "cell_type": "code",
   "execution_count": null,
   "metadata": {},
   "outputs": [],
   "source": []
  }
 ],
 "metadata": {
  "kernelspec": {
   "display_name": "base",
   "language": "python",
   "name": "python3"
  },
  "language_info": {
   "codemirror_mode": {
    "name": "ipython",
    "version": 3
   },
   "file_extension": ".py",
   "mimetype": "text/x-python",
   "name": "python",
   "nbconvert_exporter": "python",
   "pygments_lexer": "ipython3",
   "version": "3.11.9"
  }
 },
 "nbformat": 4,
 "nbformat_minor": 2
}
