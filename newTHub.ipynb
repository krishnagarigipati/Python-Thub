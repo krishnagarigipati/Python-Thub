{
 "cells": [
  {
   "cell_type": "code",
   "execution_count": 1,
   "metadata": {},
   "outputs": [
    {
     "name": "stdout",
     "output_type": "stream",
     "text": [
      "Hi\n"
     ]
    }
   ],
   "source": [
    "print(\"Hi\")"
   ]
  },
  {
   "cell_type": "markdown",
   "metadata": {},
   "source": [
    "## PACKING AND UNPACKING IN PYTHON"
   ]
  },
  {
   "cell_type": "code",
   "execution_count": 5,
   "metadata": {},
   "outputs": [
    {
     "name": "stdout",
     "output_type": "stream",
     "text": [
      "10 20 30\n"
     ]
    }
   ],
   "source": [
    "a = [10,20,30]\n",
    "print(*a) # PRINTING IN SINGLE LINE"
   ]
  },
  {
   "cell_type": "code",
   "execution_count": 9,
   "metadata": {},
   "outputs": [
    {
     "name": "stdout",
     "output_type": "stream",
     "text": [
      "10 20 [30, 40, 50, 60]\n"
     ]
    }
   ],
   "source": [
    "a,b,*c = 10,20,30,40,50,60\n",
    "\n",
    "print(a,b,c)"
   ]
  },
  {
   "cell_type": "code",
   "execution_count": 10,
   "metadata": {},
   "outputs": [
    {
     "name": "stdout",
     "output_type": "stream",
     "text": [
      "30\n",
      "60\n"
     ]
    }
   ],
   "source": [
    "def add(*nums):\n",
    "    print(sum(nums))\n",
    "    \n",
    "add(10,20)\n",
    "add(10,20,30)"
   ]
  },
  {
   "cell_type": "code",
   "execution_count": 14,
   "metadata": {},
   "outputs": [
    {
     "name": "stdout",
     "output_type": "stream",
     "text": [
      "ax\n",
      "axp\n"
     ]
    }
   ],
   "source": [
    "def fun(*s):\n",
    "    new_s = []\n",
    "    for x in s:\n",
    "        new_s.append(x[0])\n",
    "        \n",
    "    string = \"\".join(new_s)\n",
    "    print(string)\n",
    "\n",
    "\n",
    "fun(\"abc\", \"xyz\")\n",
    "fun(\"abc\", \"xyz\", \"pqr\")        "
   ]
  },
  {
   "cell_type": "code",
   "execution_count": 20,
   "metadata": {},
   "outputs": [
    {
     "name": "stdout",
     "output_type": "stream",
     "text": [
      "1\n",
      "4\n",
      "2520\n"
     ]
    }
   ],
   "source": [
    "def lcm_clone(*n):\n",
    "    \n",
    "    if(len(n)==0):\n",
    "        return 1\n",
    "    def gcd(a, b):\n",
    "        while b:\n",
    "            a, b = b, a % b\n",
    "        return a\n",
    "\n",
    "    result = n[0]\n",
    "    for num in n[1:]:\n",
    "        result = result * num // gcd(result, num)\n",
    "    return result\n",
    "print(lcm_clone())\n",
    "print(lcm_clone(2,4))\n",
    "print(lcm_clone(2,3,5, 6, 7, 8, 9))"
   ]
  },
  {
   "cell_type": "code",
   "execution_count": null,
   "metadata": {},
   "outputs": [],
   "source": []
  }
 ],
 "metadata": {
  "kernelspec": {
   "display_name": "base",
   "language": "python",
   "name": "python3"
  },
  "language_info": {
   "codemirror_mode": {
    "name": "ipython",
    "version": 3
   },
   "file_extension": ".py",
   "mimetype": "text/x-python",
   "name": "python",
   "nbconvert_exporter": "python",
   "pygments_lexer": "ipython3",
   "version": "3.11.9"
  }
 },
 "nbformat": 4,
 "nbformat_minor": 2
}
